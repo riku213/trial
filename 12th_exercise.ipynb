{
  "cells": [
    {
      "cell_type": "markdown",
      "metadata": {
        "id": "G5cRZ156q197"
      },
      "source": [
        "# 概要\n",
        "[台東区来訪者アンケート調査結果](https://www.city.taito.lg.jp/kusei/online/opendata/iryo/raihousha_anke-to.html)の自由記述回答をテキスト分析してみる．\n",
        "\n",
        "よくあるアンケートの形式は主な項目が選択肢として用意され，それらのいずれにも該当しない回答がある場合に備えて「その他(具体的に書いてください)」的な自由記述欄が用意されている．\n",
        "\n",
        "この自由記述欄の分析で得られる情報:\n",
        "- 新しく選択肢として追加した方が良い項目\n",
        "- アンケート実施者が気づかなかった項目\n",
        "\n"
      ]
    },
    {
      "cell_type": "markdown",
      "metadata": {
        "id": "iiKWWAAxq6uU"
      },
      "source": [
        "# 準備"
      ]
    },
    {
      "cell_type": "markdown",
      "metadata": {
        "id": "q2OK0RS-r1Xs"
      },
      "source": [
        "## データの準備\n",
        "台東区のサイトからデータをダウンロードして，文字コードを変換する．"
      ]
    },
    {
      "cell_type": "code",
      "execution_count": 1,
      "metadata": {
        "id": "Ql0j7expq1Z2"
      },
      "outputs": [
        {
          "name": "stdout",
          "output_type": "stream",
          "text": [
            "\u0000\u0000i\u0000n\u0000u\u0000x\u0000 \u0000(u \u0000W\u0000i\u0000n\u0000d\u0000o\u0000w\u0000s\u0000 \u0000�0�0�0�0�0�0k0o0\u00010�0�0�0�0�0�0�0�0�0�0�0L0�0�0�0�0�0�0U0�0f0D0~0[0�0\u00020\n",
            "\u0000�0�0�0�0�0�0�0�0�0�0�0o0 \u0000M\u0000i\u0000c\u0000r\u0000o\u0000s\u0000o\u0000f\u0000t\u0000 \u0000S\u0000t\u0000o\u0000r\u0000e\u0000 \u0000k0�0�0�0�0W0f0�0�0�0�0�0�0Y0�0S0h0L0g0M0~0Y0:\u0000\n",
            "\u0000h\u0000t\u0000t\u0000p\u0000s\u0000:\u0000/\u0000/\u0000a\u0000k\u0000a\u0000.\u0000m\u0000s\u0000/\u0000w\u0000s\u0000l\u0000s\u0000t\u0000o\u0000r\u0000e\u0000\n",
            "\u0000"
          ]
        },
        {
          "ename": "CalledProcessError",
          "evalue": "Command 'b'# nkf\\xe3\\x81\\xaf\\xe6\\x96\\x87\\xe5\\xad\\x97\\xe3\\x82\\xb3\\xe3\\x83\\xbc\\xe3\\x83\\x89\\xe5\\xa4\\x89\\xe6\\x8f\\x9b\\xe7\\x94\\xa8\\xe3\\x81\\xae\\xe3\\x82\\xb3\\xe3\\x83\\x9e\\xe3\\x83\\xb3\\xe3\\x83\\x89\\napt-get install nkf\\nwget \"https://www.city.taito.lg.jp/kusei/online/opendata/iryo/raihousha_anke-to.files/03raihousha-kekka.csv\"\\n# Shift-jis\\xe3\\x81\\xaa\\xe3\\x81\\xae\\xe3\\x81\\xa7utf-8\\xe3\\x81\\xab\\xe5\\xa4\\x89\\xe6\\x8f\\x9b\\xe3\\x81\\x99\\xe3\\x82\\x8b\\nnkf -w 03raihousha-kekka.csv > 03raihousha-kekka.utf8.csv\\n\\nwget \"https://www.city.taito.lg.jp/kusei/online/opendata/iryo/raihousha_anke-to.files/02raihousha-code.csv\"\\n# Shift-jis\\xe3\\x81\\xaa\\xe3\\x81\\xae\\xe3\\x81\\xa7utf-8\\xe3\\x81\\xab\\xe5\\xa4\\x89\\xe6\\x8f\\x9b\\xe3\\x81\\x99\\xe3\\x82\\x8b\\nnkf -w 02raihousha-code.csv > 02raihousha-code.utf8.csv\\n'' returned non-zero exit status 1.",
          "output_type": "error",
          "traceback": [
            "\u001b[1;31m---------------------------------------------------------------------------\u001b[0m",
            "\u001b[1;31mCalledProcessError\u001b[0m                        Traceback (most recent call last)",
            "\u001b[1;32m<ipython-input-1-f2410095a63a>\u001b[0m in \u001b[0;36m<module>\u001b[1;34m\u001b[0m\n\u001b[1;32m----> 1\u001b[1;33m \u001b[0mget_ipython\u001b[0m\u001b[1;33m(\u001b[0m\u001b[1;33m)\u001b[0m\u001b[1;33m.\u001b[0m\u001b[0mrun_cell_magic\u001b[0m\u001b[1;33m(\u001b[0m\u001b[1;34m'bash'\u001b[0m\u001b[1;33m,\u001b[0m \u001b[1;34m''\u001b[0m\u001b[1;33m,\u001b[0m \u001b[1;34m'# nkfは文字コード変換用のコマンド\\napt-get install nkf\\nwget \"https://www.city.taito.lg.jp/kusei/online/opendata/iryo/raihousha_anke-to.files/03raihousha-kekka.csv\"\\n# Shift-jisなのでutf-8に変換する\\nnkf -w 03raihousha-kekka.csv > 03raihousha-kekka.utf8.csv\\n\\nwget \"https://www.city.taito.lg.jp/kusei/online/opendata/iryo/raihousha_anke-to.files/02raihousha-code.csv\"\\n# Shift-jisなのでutf-8に変換する\\nnkf -w 02raihousha-code.csv > 02raihousha-code.utf8.csv\\n'\u001b[0m\u001b[1;33m)\u001b[0m\u001b[1;33m\u001b[0m\u001b[1;33m\u001b[0m\u001b[0m\n\u001b[0m",
            "\u001b[1;32mc:\\Software\\Python\\python-3.9.1\\lib\\site-packages\\IPython\\core\\interactiveshell.py\u001b[0m in \u001b[0;36mrun_cell_magic\u001b[1;34m(self, magic_name, line, cell)\u001b[0m\n\u001b[0;32m   2389\u001b[0m             \u001b[1;32mwith\u001b[0m \u001b[0mself\u001b[0m\u001b[1;33m.\u001b[0m\u001b[0mbuiltin_trap\u001b[0m\u001b[1;33m:\u001b[0m\u001b[1;33m\u001b[0m\u001b[1;33m\u001b[0m\u001b[0m\n\u001b[0;32m   2390\u001b[0m                 \u001b[0margs\u001b[0m \u001b[1;33m=\u001b[0m \u001b[1;33m(\u001b[0m\u001b[0mmagic_arg_s\u001b[0m\u001b[1;33m,\u001b[0m \u001b[0mcell\u001b[0m\u001b[1;33m)\u001b[0m\u001b[1;33m\u001b[0m\u001b[1;33m\u001b[0m\u001b[0m\n\u001b[1;32m-> 2391\u001b[1;33m                 \u001b[0mresult\u001b[0m \u001b[1;33m=\u001b[0m \u001b[0mfn\u001b[0m\u001b[1;33m(\u001b[0m\u001b[1;33m*\u001b[0m\u001b[0margs\u001b[0m\u001b[1;33m,\u001b[0m \u001b[1;33m**\u001b[0m\u001b[0mkwargs\u001b[0m\u001b[1;33m)\u001b[0m\u001b[1;33m\u001b[0m\u001b[1;33m\u001b[0m\u001b[0m\n\u001b[0m\u001b[0;32m   2392\u001b[0m             \u001b[1;32mreturn\u001b[0m \u001b[0mresult\u001b[0m\u001b[1;33m\u001b[0m\u001b[1;33m\u001b[0m\u001b[0m\n\u001b[0;32m   2393\u001b[0m \u001b[1;33m\u001b[0m\u001b[0m\n",
            "\u001b[1;32mc:\\Software\\Python\\python-3.9.1\\lib\\site-packages\\IPython\\core\\magics\\script.py\u001b[0m in \u001b[0;36mnamed_script_magic\u001b[1;34m(line, cell)\u001b[0m\n\u001b[0;32m    140\u001b[0m             \u001b[1;32melse\u001b[0m\u001b[1;33m:\u001b[0m\u001b[1;33m\u001b[0m\u001b[1;33m\u001b[0m\u001b[0m\n\u001b[0;32m    141\u001b[0m                 \u001b[0mline\u001b[0m \u001b[1;33m=\u001b[0m \u001b[0mscript\u001b[0m\u001b[1;33m\u001b[0m\u001b[1;33m\u001b[0m\u001b[0m\n\u001b[1;32m--> 142\u001b[1;33m             \u001b[1;32mreturn\u001b[0m \u001b[0mself\u001b[0m\u001b[1;33m.\u001b[0m\u001b[0mshebang\u001b[0m\u001b[1;33m(\u001b[0m\u001b[0mline\u001b[0m\u001b[1;33m,\u001b[0m \u001b[0mcell\u001b[0m\u001b[1;33m)\u001b[0m\u001b[1;33m\u001b[0m\u001b[1;33m\u001b[0m\u001b[0m\n\u001b[0m\u001b[0;32m    143\u001b[0m \u001b[1;33m\u001b[0m\u001b[0m\n\u001b[0;32m    144\u001b[0m         \u001b[1;31m# write a basic docstring:\u001b[0m\u001b[1;33m\u001b[0m\u001b[1;33m\u001b[0m\u001b[1;33m\u001b[0m\u001b[0m\n",
            "\u001b[1;32m<decorator-gen-104>\u001b[0m in \u001b[0;36mshebang\u001b[1;34m(self, line, cell)\u001b[0m\n",
            "\u001b[1;32mc:\\Software\\Python\\python-3.9.1\\lib\\site-packages\\IPython\\core\\magic.py\u001b[0m in \u001b[0;36m<lambda>\u001b[1;34m(f, *a, **k)\u001b[0m\n\u001b[0;32m    185\u001b[0m     \u001b[1;31m# but it's overkill for just that one bit of state.\u001b[0m\u001b[1;33m\u001b[0m\u001b[1;33m\u001b[0m\u001b[1;33m\u001b[0m\u001b[0m\n\u001b[0;32m    186\u001b[0m     \u001b[1;32mdef\u001b[0m \u001b[0mmagic_deco\u001b[0m\u001b[1;33m(\u001b[0m\u001b[0marg\u001b[0m\u001b[1;33m)\u001b[0m\u001b[1;33m:\u001b[0m\u001b[1;33m\u001b[0m\u001b[1;33m\u001b[0m\u001b[0m\n\u001b[1;32m--> 187\u001b[1;33m         \u001b[0mcall\u001b[0m \u001b[1;33m=\u001b[0m \u001b[1;32mlambda\u001b[0m \u001b[0mf\u001b[0m\u001b[1;33m,\u001b[0m \u001b[1;33m*\u001b[0m\u001b[0ma\u001b[0m\u001b[1;33m,\u001b[0m \u001b[1;33m**\u001b[0m\u001b[0mk\u001b[0m\u001b[1;33m:\u001b[0m \u001b[0mf\u001b[0m\u001b[1;33m(\u001b[0m\u001b[1;33m*\u001b[0m\u001b[0ma\u001b[0m\u001b[1;33m,\u001b[0m \u001b[1;33m**\u001b[0m\u001b[0mk\u001b[0m\u001b[1;33m)\u001b[0m\u001b[1;33m\u001b[0m\u001b[1;33m\u001b[0m\u001b[0m\n\u001b[0m\u001b[0;32m    188\u001b[0m \u001b[1;33m\u001b[0m\u001b[0m\n\u001b[0;32m    189\u001b[0m         \u001b[1;32mif\u001b[0m \u001b[0mcallable\u001b[0m\u001b[1;33m(\u001b[0m\u001b[0marg\u001b[0m\u001b[1;33m)\u001b[0m\u001b[1;33m:\u001b[0m\u001b[1;33m\u001b[0m\u001b[1;33m\u001b[0m\u001b[0m\n",
            "\u001b[1;32mc:\\Software\\Python\\python-3.9.1\\lib\\site-packages\\IPython\\core\\magics\\script.py\u001b[0m in \u001b[0;36mshebang\u001b[1;34m(self, line, cell)\u001b[0m\n\u001b[0;32m    243\u001b[0m             \u001b[0msys\u001b[0m\u001b[1;33m.\u001b[0m\u001b[0mstderr\u001b[0m\u001b[1;33m.\u001b[0m\u001b[0mflush\u001b[0m\u001b[1;33m(\u001b[0m\u001b[1;33m)\u001b[0m\u001b[1;33m\u001b[0m\u001b[1;33m\u001b[0m\u001b[0m\n\u001b[0;32m    244\u001b[0m         \u001b[1;32mif\u001b[0m \u001b[0margs\u001b[0m\u001b[1;33m.\u001b[0m\u001b[0mraise_error\u001b[0m \u001b[1;32mand\u001b[0m \u001b[0mp\u001b[0m\u001b[1;33m.\u001b[0m\u001b[0mreturncode\u001b[0m\u001b[1;33m!=\u001b[0m\u001b[1;36m0\u001b[0m\u001b[1;33m:\u001b[0m\u001b[1;33m\u001b[0m\u001b[1;33m\u001b[0m\u001b[0m\n\u001b[1;32m--> 245\u001b[1;33m             \u001b[1;32mraise\u001b[0m \u001b[0mCalledProcessError\u001b[0m\u001b[1;33m(\u001b[0m\u001b[0mp\u001b[0m\u001b[1;33m.\u001b[0m\u001b[0mreturncode\u001b[0m\u001b[1;33m,\u001b[0m \u001b[0mcell\u001b[0m\u001b[1;33m,\u001b[0m \u001b[0moutput\u001b[0m\u001b[1;33m=\u001b[0m\u001b[0mout\u001b[0m\u001b[1;33m,\u001b[0m \u001b[0mstderr\u001b[0m\u001b[1;33m=\u001b[0m\u001b[0merr\u001b[0m\u001b[1;33m)\u001b[0m\u001b[1;33m\u001b[0m\u001b[1;33m\u001b[0m\u001b[0m\n\u001b[0m\u001b[0;32m    246\u001b[0m \u001b[1;33m\u001b[0m\u001b[0m\n\u001b[0;32m    247\u001b[0m     \u001b[1;32mdef\u001b[0m \u001b[0m_run_script\u001b[0m\u001b[1;33m(\u001b[0m\u001b[0mself\u001b[0m\u001b[1;33m,\u001b[0m \u001b[0mp\u001b[0m\u001b[1;33m,\u001b[0m \u001b[0mcell\u001b[0m\u001b[1;33m,\u001b[0m \u001b[0mto_close\u001b[0m\u001b[1;33m)\u001b[0m\u001b[1;33m:\u001b[0m\u001b[1;33m\u001b[0m\u001b[1;33m\u001b[0m\u001b[0m\n",
            "\u001b[1;31mCalledProcessError\u001b[0m: Command 'b'# nkf\\xe3\\x81\\xaf\\xe6\\x96\\x87\\xe5\\xad\\x97\\xe3\\x82\\xb3\\xe3\\x83\\xbc\\xe3\\x83\\x89\\xe5\\xa4\\x89\\xe6\\x8f\\x9b\\xe7\\x94\\xa8\\xe3\\x81\\xae\\xe3\\x82\\xb3\\xe3\\x83\\x9e\\xe3\\x83\\xb3\\xe3\\x83\\x89\\napt-get install nkf\\nwget \"https://www.city.taito.lg.jp/kusei/online/opendata/iryo/raihousha_anke-to.files/03raihousha-kekka.csv\"\\n# Shift-jis\\xe3\\x81\\xaa\\xe3\\x81\\xae\\xe3\\x81\\xa7utf-8\\xe3\\x81\\xab\\xe5\\xa4\\x89\\xe6\\x8f\\x9b\\xe3\\x81\\x99\\xe3\\x82\\x8b\\nnkf -w 03raihousha-kekka.csv > 03raihousha-kekka.utf8.csv\\n\\nwget \"https://www.city.taito.lg.jp/kusei/online/opendata/iryo/raihousha_anke-to.files/02raihousha-code.csv\"\\n# Shift-jis\\xe3\\x81\\xaa\\xe3\\x81\\xae\\xe3\\x81\\xa7utf-8\\xe3\\x81\\xab\\xe5\\xa4\\x89\\xe6\\x8f\\x9b\\xe3\\x81\\x99\\xe3\\x82\\x8b\\nnkf -w 02raihousha-code.csv > 02raihousha-code.utf8.csv\\n'' returned non-zero exit status 1."
          ]
        }
      ],
      "source": [
        "%%bash\n",
        "# nkfは文字コード変換用のコマンド\n",
        "apt-get install nkf\n",
        "wget \"https://www.city.taito.lg.jp/kusei/online/opendata/iryo/raihousha_anke-to.files/03raihousha-kekka.csv\"\n",
        "# Shift-jisなのでutf-8に変換する\n",
        "nkf -w 03raihousha-kekka.csv > 03raihousha-kekka.utf8.csv\n",
        "\n",
        "wget \"https://www.city.taito.lg.jp/kusei/online/opendata/iryo/raihousha_anke-to.files/02raihousha-code.csv\"\n",
        "# Shift-jisなのでutf-8に変換する\n",
        "nkf -w 02raihousha-code.csv > 02raihousha-code.utf8.csv\n"
      ]
    },
    {
      "cell_type": "markdown",
      "metadata": {
        "id": "ugpR3UYCsOIb"
      },
      "source": [
        "## いつもの準備"
      ]
    },
    {
      "cell_type": "code",
      "execution_count": null,
      "metadata": {
        "id": "0xRh2Borruyy"
      },
      "outputs": [],
      "source": [
        "%%bash\n",
        "apt-get install mecab libmecab-dev mecab-ipadic-utf8\n",
        "pip install mecab-python3 ipadic\n",
        "ln -s /etc/mecabrc /usr/local/etc/mecabrc\n",
        "pip install nlplot\n",
        "pip install japanize-matplotlib"
      ]
    },
    {
      "cell_type": "code",
      "execution_count": null,
      "metadata": {
        "id": "G0X6iQfkscZY"
      },
      "outputs": [],
      "source": [
        "import MeCab\n",
        "import re\n",
        "import nlplot\n",
        "mecab=MeCab.Tagger()\n",
        "\n",
        "import pandas as pd\n",
        "import csv\n",
        "\n",
        "import matplotlib.pyplot as plt\n",
        "import matplotlib as mpl\n",
        "import seaborn as sns\n",
        "sns.set()\n",
        "%matplotlib inline\n",
        "import japanize_matplotlib\n",
        "\n",
        "from collections import defaultdict\n",
        "import math"
      ]
    },
    {
      "cell_type": "code",
      "execution_count": null,
      "metadata": {
        "id": "VLgCbDnfwQr8"
      },
      "outputs": [],
      "source": [
        "# 回答のコードと内容の対応\n",
        "codes=defaultdict(lambda:defaultdict())\n",
        "with open('02raihousha-code.utf8.csv') as fh:\n",
        "  cr=csv.reader(fh)\n",
        "  header=next(cr)\n",
        "  for row in cr:\n",
        "    for i in range(2,len(row)):\n",
        "      if row[i]=='':\n",
        "        break\n",
        "      line=re.split('\\:',row[i])\n",
        "      codes[row[1]][int(line[0])]=line[1]\n"
      ]
    },
    {
      "cell_type": "code",
      "execution_count": null,
      "metadata": {
        "id": "FjDUm6BXrexT"
      },
      "outputs": [],
      "source": [
        "def mecabparse(sentence):\n",
        "  result=[]\n",
        "  morphs=re.split('\\n',mecab.parse(sentence).rstrip())\n",
        "  for m in morphs:\n",
        "    if m=='EOS':\n",
        "      break\n",
        "    line=re.split('\\t',m)\n",
        "    features=re.split(',',line[1])\n",
        "    if re.match('名詞|動詞|形容詞|副詞',features[0]) and not re.match('非自立|代名詞',features[1]):\n",
        "      if features[6]=='*':\n",
        "        result.append(line[0])\n",
        "      else:\n",
        "        result.append(features[6])\n",
        "  return result"
      ]
    },
    {
      "cell_type": "code",
      "execution_count": null,
      "metadata": {
        "id": "Np1XcLvIsqLr"
      },
      "outputs": [],
      "source": [
        "questionnaire=pd.read_csv(\"03raihousha-kekka.utf8.csv\")"
      ]
    },
    {
      "cell_type": "code",
      "execution_count": null,
      "metadata": {
        "id": "fcRDd0dbXIJ2"
      },
      "outputs": [],
      "source": [
        "questionnaire.head()"
      ]
    },
    {
      "cell_type": "markdown",
      "metadata": {
        "id": "a9fypSpYFPWH"
      },
      "source": [
        "# 「問11．現在の観光地および台東区への旅行に対する満足度についてお聞かせ下さい」の理由の分析\n",
        "- 現在の観光地に関しては「問⑧_調査地点」にあるので，それ毎に分ける\n",
        "\n"
      ]
    },
    {
      "cell_type": "markdown",
      "metadata": {
        "id": "vaBLIGiFjZ9N"
      },
      "source": [
        "## 前処理\n",
        "- 理由が空欄のものは削除する\n",
        "- 調査地点の回答をコードから地名に置換する\n",
        "- 理由の単語列の取得"
      ]
    },
    {
      "cell_type": "code",
      "execution_count": null,
      "metadata": {
        "id": "RAvEMqIDj42A"
      },
      "outputs": [],
      "source": [
        "df=questionnaire.dropna(subset=['問⑪_総合満足度理由'])\n",
        "df=df[['問⑧_調査地点','問⑪_⑧総合満足度','問⑪_総合満足度理由']]\n",
        "df['問⑧_調査地点']=df['問⑧_調査地点'].apply(lambda x:codes['問⑧_調査地点'][x])\n",
        "df['words']=df['問⑪_総合満足度理由'].apply(mecabparse)"
      ]
    },
    {
      "cell_type": "code",
      "execution_count": null,
      "metadata": {
        "id": "TlThAxH0yO8g"
      },
      "outputs": [],
      "source": [
        "df.head()"
      ]
    },
    {
      "cell_type": "code",
      "execution_count": null,
      "metadata": {
        "id": "oWgihxQXdlSi"
      },
      "outputs": [],
      "source": [
        "df['問⑧_調査地点'].value_counts() # 度数分布"
      ]
    },
    {
      "cell_type": "markdown",
      "metadata": {
        "id": "DOCvxIfWexo1"
      },
      "source": [
        "## 各観光地毎の満足度の分布を表示"
      ]
    },
    {
      "cell_type": "code",
      "execution_count": null,
      "metadata": {
        "id": "uJH2y-KKSrGV"
      },
      "outputs": [],
      "source": [
        "for c in codes['問⑧_調査地点'].values():\n",
        "  print(c)\n",
        "  print(df[df['問⑧_調査地点']==c]['問⑪_⑧総合満足度'].value_counts())"
      ]
    },
    {
      "cell_type": "markdown",
      "metadata": {
        "id": "e5YvlCAJjI8r"
      },
      "source": [
        "概ね，好意的な意見が多そうなので満足度別での表示はしない．"
      ]
    },
    {
      "cell_type": "markdown",
      "metadata": {
        "id": "Yz1LxQhGda2Q"
      },
      "source": [
        "## 各調査地点毎のワードクラウドを表示してみる．"
      ]
    },
    {
      "cell_type": "code",
      "execution_count": null,
      "metadata": {
        "id": "tbbcOcBvTpxZ"
      },
      "outputs": [],
      "source": [
        "for c in codes['問⑧_調査地点'].values():\n",
        "  print(c)\n",
        "  subdf=df[df['問⑧_調査地点']==c]\n",
        "  npt=nlplot.NLPlot(subdf,target_col='words')\n",
        "  wc=npt.wordcloud(\n",
        "    max_words=200,\n",
        "    max_font_size=100,\n",
        "    colormap='tab20_r'\n",
        "  )\n",
        "  plt.figure(figsize=(8, 6))\n",
        "  plt.imshow(wc, interpolation=\"bilinear\")\n",
        "  plt.axis(\"off\")\n",
        "  plt.show()"
      ]
    },
    {
      "cell_type": "markdown",
      "metadata": {
        "id": "rnhrmTMgjTFo"
      },
      "source": [
        "## 調査地点毎にtfidfを表示してみる\n",
        "調査地点毎に理由をまとめて一つのテキストと見なしてtfidfを計算する"
      ]
    },
    {
      "cell_type": "code",
      "execution_count": null,
      "metadata": {
        "id": "HtDQFs-GjRwR"
      },
      "outputs": [],
      "source": [
        "# tfidfの計算\n",
        "wordfreq=defaultdict(lambda:defaultdict(int))\n",
        "num_of_words=defaultdict(int)\n",
        "docf=defaultdict(int)\n",
        "for c in codes['問⑧_調査地点'].values():\n",
        "  subdf=df[df['問⑧_調査地点']==c]\n",
        "  for bow in subdf['words']:\n",
        "    for w in bow:\n",
        "      wordfreq[c][w]+=1\n",
        "      num_of_words[c]+=1\n",
        "  for w in wordfreq[c]:\n",
        "    docf[w]+=1\n",
        "\n"
      ]
    },
    {
      "cell_type": "code",
      "execution_count": null,
      "metadata": {
        "id": "OWkwO_fnkClw"
      },
      "outputs": [],
      "source": [
        "tfidf=defaultdict(lambda:defaultdict(float))\n",
        "for c in wordfreq:\n",
        "  for w in wordfreq[c]:\n",
        "    tfidf[c][w]=(wordfreq[c][w]/num_of_words[c])*(math.log(len(wordfreq)/docf[w]))\n",
        "  print(c)\n",
        "  srted=sorted(tfidf[c].keys(),key=lambda x:tfidf[c][x],reverse=True)\n",
        "  for i in range(10):\n",
        "    print('',srted[i],tfidf[c][srted[i]],sep='\\t')\n"
      ]
    },
    {
      "cell_type": "markdown",
      "metadata": {
        "id": "ttwNW5EU44j5"
      },
      "source": [
        "# 課題\n",
        "台東区来訪者アンケート調査結果の「問 16．最後に、台東区の観光行政に関するご意見を自由に記入してください。」の回答を分析しなさい．\n",
        "- 何をどう分析するかは自由\n",
        "  - どんな意見が多かったか，など\n",
        "- アンケートの他の項目を利用してもよい\n",
        "  - 例: 回答者の属性毎にどういう意見があるかを整理する\n",
        "- 意見にはいくつかタイプが見られそう\n",
        "  - 「〜してほしい」といった要望\n",
        "  - 「〜が良かった」といった感想\n"
      ]
    }
  ],
  "metadata": {
    "colab": {
      "name": "台東区来訪者アンケート調査.ipynb",
      "provenance": [],
      "toc_visible": true
    },
    "kernelspec": {
      "display_name": "Python 3",
      "name": "python3"
    },
    "language_info": {
      "codemirror_mode": {
        "name": "ipython",
        "version": 3
      },
      "file_extension": ".py",
      "mimetype": "text/x-python",
      "name": "python",
      "nbconvert_exporter": "python",
      "pygments_lexer": "ipython3",
      "version": "3.9.1"
    }
  },
  "nbformat": 4,
  "nbformat_minor": 0
}
