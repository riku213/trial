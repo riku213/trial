{
  "nbformat": 4,
  "nbformat_minor": 0,
  "metadata": {
    "colab": {
      "name": "台東区来訪者アンケート調査.ipynb",
      "provenance": [],
      "toc_visible": true
    },
    "kernelspec": {
      "name": "python3",
      "display_name": "Python 3"
    },
    "language_info": {
      "name": "python"
    }
  },
  "cells": [
    {
      "cell_type": "markdown",
      "source": [
        "# 概要\n",
        "[台東区来訪者アンケート調査結果](https://www.city.taito.lg.jp/kusei/online/opendata/iryo/raihousha_anke-to.html)の自由記述回答をテキスト分析してみる．\n",
        "\n",
        "よくあるアンケートの形式は主な項目が選択肢として用意され，それらのいずれにも該当しない回答がある場合に備えて「その他(具体的に書いてください)」的な自由記述欄が用意されている．\n",
        "\n",
        "この自由記述欄の分析で得られる情報:\n",
        "- 新しく選択肢として追加した方が良い項目\n",
        "- アンケート実施者が気づかなかった項目\n",
        "\n"
      ],
      "metadata": {
        "id": "G5cRZ156q197"
      }
    },
    {
      "cell_type": "markdown",
      "source": [
        "# 準備"
      ],
      "metadata": {
        "id": "iiKWWAAxq6uU"
      }
    },
    {
      "cell_type": "markdown",
      "source": [
        "## データの準備\n",
        "台東区のサイトからデータをダウンロードして，文字コードを変換する．"
      ],
      "metadata": {
        "id": "q2OK0RS-r1Xs"
      }
    },
    {
      "cell_type": "code",
      "source": [
        "%%bash\n",
        "# nkfは文字コード変換用のコマンド\n",
        "apt-get install nkf\n",
        "wget \"https://www.city.taito.lg.jp/kusei/online/opendata/iryo/raihousha_anke-to.files/03raihousha-kekka.csv\"\n",
        "# Shift-jisなのでutf-8に変換する\n",
        "nkf -w 03raihousha-kekka.csv > 03raihousha-kekka.utf8.csv\n",
        "\n",
        "wget \"https://www.city.taito.lg.jp/kusei/online/opendata/iryo/raihousha_anke-to.files/02raihousha-code.csv\"\n",
        "# Shift-jisなのでutf-8に変換する\n",
        "nkf -w 02raihousha-code.csv > 02raihousha-code.utf8.csv\n"
      ],
      "metadata": {
        "id": "Ql0j7expq1Z2"
      },
      "execution_count": null,
      "outputs": []
    },
    {
      "cell_type": "markdown",
      "source": [
        "## いつもの準備"
      ],
      "metadata": {
        "id": "ugpR3UYCsOIb"
      }
    },
    {
      "cell_type": "code",
      "source": [
        "%%bash\n",
        "apt-get install mecab libmecab-dev mecab-ipadic-utf8\n",
        "pip install mecab-python3 ipadic\n",
        "ln -s /etc/mecabrc /usr/local/etc/mecabrc\n",
        "pip install nlplot\n",
        "pip install japanize-matplotlib"
      ],
      "metadata": {
        "id": "0xRh2Borruyy"
      },
      "execution_count": null,
      "outputs": []
    },
    {
      "cell_type": "code",
      "source": [
        "import MeCab\n",
        "import re\n",
        "import nlplot\n",
        "mecab=MeCab.Tagger()\n",
        "\n",
        "import pandas as pd\n",
        "import csv\n",
        "\n",
        "import matplotlib.pyplot as plt\n",
        "import matplotlib as mpl\n",
        "import seaborn as sns\n",
        "sns.set()\n",
        "%matplotlib inline\n",
        "import japanize_matplotlib\n",
        "\n",
        "from collections import defaultdict\n",
        "import math"
      ],
      "metadata": {
        "id": "G0X6iQfkscZY"
      },
      "execution_count": null,
      "outputs": []
    },
    {
      "cell_type": "code",
      "source": [
        "# 回答のコードと内容の対応\n",
        "codes=defaultdict(lambda:defaultdict())\n",
        "with open('02raihousha-code.utf8.csv') as fh:\n",
        "  cr=csv.reader(fh)\n",
        "  header=next(cr)\n",
        "  for row in cr:\n",
        "    for i in range(2,len(row)):\n",
        "      if row[i]=='':\n",
        "        break\n",
        "      line=re.split('\\:',row[i])\n",
        "      codes[row[1]][int(line[0])]=line[1]\n"
      ],
      "metadata": {
        "id": "VLgCbDnfwQr8"
      },
      "execution_count": null,
      "outputs": []
    },
    {
      "cell_type": "code",
      "source": [
        "def mecabparse(sentence):\n",
        "  result=[]\n",
        "  morphs=re.split('\\n',mecab.parse(sentence).rstrip())\n",
        "  for m in morphs:\n",
        "    if m=='EOS':\n",
        "      break\n",
        "    line=re.split('\\t',m)\n",
        "    features=re.split(',',line[1])\n",
        "    if re.match('名詞|動詞|形容詞|副詞',features[0]) and not re.match('非自立|代名詞',features[1]):\n",
        "      if features[6]=='*':\n",
        "        result.append(line[0])\n",
        "      else:\n",
        "        result.append(features[6])\n",
        "  return result"
      ],
      "metadata": {
        "id": "FjDUm6BXrexT"
      },
      "execution_count": null,
      "outputs": []
    },
    {
      "cell_type": "code",
      "source": [
        "questionnaire=pd.read_csv(\"03raihousha-kekka.utf8.csv\")"
      ],
      "metadata": {
        "id": "Np1XcLvIsqLr"
      },
      "execution_count": null,
      "outputs": []
    },
    {
      "cell_type": "code",
      "source": [
        "questionnaire.head()"
      ],
      "metadata": {
        "id": "fcRDd0dbXIJ2"
      },
      "execution_count": null,
      "outputs": []
    },
    {
      "cell_type": "markdown",
      "source": [
        "# 「問11．現在の観光地および台東区への旅行に対する満足度についてお聞かせ下さい」の理由の分析\n",
        "- 現在の観光地に関しては「問⑧_調査地点」にあるので，それ毎に分ける\n",
        "\n"
      ],
      "metadata": {
        "id": "a9fypSpYFPWH"
      }
    },
    {
      "cell_type": "markdown",
      "source": [
        "## 前処理\n",
        "- 理由が空欄のものは削除する\n",
        "- 調査地点の回答をコードから地名に置換する\n",
        "- 理由の単語列の取得"
      ],
      "metadata": {
        "id": "vaBLIGiFjZ9N"
      }
    },
    {
      "cell_type": "code",
      "source": [
        "df=questionnaire.dropna(subset=['問⑪_総合満足度理由'])\n",
        "df=df[['問⑧_調査地点','問⑪_⑧総合満足度','問⑪_総合満足度理由']]\n",
        "df['問⑧_調査地点']=df['問⑧_調査地点'].apply(lambda x:codes['問⑧_調査地点'][x])\n",
        "df['words']=df['問⑪_総合満足度理由'].apply(mecabparse)"
      ],
      "metadata": {
        "id": "RAvEMqIDj42A"
      },
      "execution_count": null,
      "outputs": []
    },
    {
      "cell_type": "code",
      "source": [
        "df.head()"
      ],
      "metadata": {
        "id": "TlThAxH0yO8g"
      },
      "execution_count": null,
      "outputs": []
    },
    {
      "cell_type": "code",
      "source": [
        "df['問⑧_調査地点'].value_counts() # 度数分布"
      ],
      "metadata": {
        "id": "oWgihxQXdlSi"
      },
      "execution_count": null,
      "outputs": []
    },
    {
      "cell_type": "markdown",
      "source": [
        "## 各観光地毎の満足度の分布を表示"
      ],
      "metadata": {
        "id": "DOCvxIfWexo1"
      }
    },
    {
      "cell_type": "code",
      "source": [
        "for c in codes['問⑧_調査地点'].values():\n",
        "  print(c)\n",
        "  print(df[df['問⑧_調査地点']==c]['問⑪_⑧総合満足度'].value_counts())"
      ],
      "metadata": {
        "id": "uJH2y-KKSrGV"
      },
      "execution_count": null,
      "outputs": []
    },
    {
      "cell_type": "markdown",
      "source": [
        "概ね，好意的な意見が多そうなので満足度別での表示はしない．"
      ],
      "metadata": {
        "id": "e5YvlCAJjI8r"
      }
    },
    {
      "cell_type": "markdown",
      "source": [
        "## 各調査地点毎のワードクラウドを表示してみる．"
      ],
      "metadata": {
        "id": "Yz1LxQhGda2Q"
      }
    },
    {
      "cell_type": "code",
      "source": [
        "for c in codes['問⑧_調査地点'].values():\n",
        "  print(c)\n",
        "  subdf=df[df['問⑧_調査地点']==c]\n",
        "  npt=nlplot.NLPlot(subdf,target_col='words')\n",
        "  wc=npt.wordcloud(\n",
        "    max_words=200,\n",
        "    max_font_size=100,\n",
        "    colormap='tab20_r'\n",
        "  )\n",
        "  plt.figure(figsize=(8, 6))\n",
        "  plt.imshow(wc, interpolation=\"bilinear\")\n",
        "  plt.axis(\"off\")\n",
        "  plt.show()"
      ],
      "metadata": {
        "id": "tbbcOcBvTpxZ"
      },
      "execution_count": null,
      "outputs": []
    },
    {
      "cell_type": "markdown",
      "source": [
        "## 調査地点毎にtfidfを表示してみる\n",
        "調査地点毎に理由をまとめて一つのテキストと見なしてtfidfを計算する"
      ],
      "metadata": {
        "id": "rnhrmTMgjTFo"
      }
    },
    {
      "cell_type": "code",
      "source": [
        "# tfidfの計算\n",
        "wordfreq=defaultdict(lambda:defaultdict(int))\n",
        "num_of_words=defaultdict(int)\n",
        "docf=defaultdict(int)\n",
        "for c in codes['問⑧_調査地点'].values():\n",
        "  subdf=df[df['問⑧_調査地点']==c]\n",
        "  for bow in subdf['words']:\n",
        "    for w in bow:\n",
        "      wordfreq[c][w]+=1\n",
        "      num_of_words[c]+=1\n",
        "  for w in wordfreq[c]:\n",
        "    docf[w]+=1\n",
        "\n"
      ],
      "metadata": {
        "id": "HtDQFs-GjRwR"
      },
      "execution_count": null,
      "outputs": []
    },
    {
      "cell_type": "code",
      "source": [
        "tfidf=defaultdict(lambda:defaultdict(float))\n",
        "for c in wordfreq:\n",
        "  for w in wordfreq[c]:\n",
        "    tfidf[c][w]=(wordfreq[c][w]/num_of_words[c])*(math.log(len(wordfreq)/docf[w]))\n",
        "  print(c)\n",
        "  srted=sorted(tfidf[c].keys(),key=lambda x:tfidf[c][x],reverse=True)\n",
        "  for i in range(10):\n",
        "    print('',srted[i],tfidf[c][srted[i]],sep='\\t')\n"
      ],
      "metadata": {
        "id": "OWkwO_fnkClw"
      },
      "execution_count": null,
      "outputs": []
    },
    {
      "cell_type": "markdown",
      "source": [
        "# 課題\n",
        "台東区来訪者アンケート調査結果の「問 16．最後に、台東区の観光行政に関するご意見を自由に記入してください。」の回答を分析しなさい．\n",
        "- 何をどう分析するかは自由\n",
        "  - どんな意見が多かったか，など\n",
        "- アンケートの他の項目を利用してもよい\n",
        "  - 例: 回答者の属性毎にどういう意見があるかを整理する\n",
        "- 意見にはいくつかタイプが見られそう\n",
        "  - 「〜してほしい」といった要望\n",
        "  - 「〜が良かった」といった感想\n"
      ],
      "metadata": {
        "id": "ttwNW5EU44j5"
      }
    }
  ]
}